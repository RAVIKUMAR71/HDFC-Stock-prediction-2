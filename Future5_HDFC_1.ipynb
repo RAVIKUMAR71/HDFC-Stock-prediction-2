{
  "nbformat": 4,
  "nbformat_minor": 0,
  "metadata": {
    "colab": {
      "name": "Future5_HDFC_1.ipynb",
      "provenance": []
    },
    "kernelspec": {
      "name": "python3",
      "display_name": "Python 3"
    },
    "language_info": {
      "name": "python"
    }
  },
  "cells": [
    {
      "cell_type": "code",
      "metadata": {
        "colab": {
          "base_uri": "https://localhost:8080/"
        },
        "id": "smQqkBhJpyoH",
        "outputId": "2b5f80d0-38df-4368-9c12-20073b04f4b6"
      },
      "source": [
        "!pip install nsepy"
      ],
      "execution_count": null,
      "outputs": [
        {
          "output_type": "stream",
          "text": [
            "Requirement already satisfied: nsepy in /usr/local/lib/python3.7/dist-packages (0.8)\n",
            "Requirement already satisfied: beautifulsoup4 in /usr/local/lib/python3.7/dist-packages (from nsepy) (4.6.3)\n",
            "Requirement already satisfied: six in /usr/local/lib/python3.7/dist-packages (from nsepy) (1.15.0)\n",
            "Requirement already satisfied: lxml in /usr/local/lib/python3.7/dist-packages (from nsepy) (4.2.6)\n",
            "Requirement already satisfied: click in /usr/local/lib/python3.7/dist-packages (from nsepy) (7.1.2)\n",
            "Requirement already satisfied: numpy in /usr/local/lib/python3.7/dist-packages (from nsepy) (1.19.5)\n",
            "Requirement already satisfied: requests in /usr/local/lib/python3.7/dist-packages (from nsepy) (2.23.0)\n",
            "Requirement already satisfied: pandas in /usr/local/lib/python3.7/dist-packages (from nsepy) (1.1.5)\n",
            "Requirement already satisfied: chardet<4,>=3.0.2 in /usr/local/lib/python3.7/dist-packages (from requests->nsepy) (3.0.4)\n",
            "Requirement already satisfied: certifi>=2017.4.17 in /usr/local/lib/python3.7/dist-packages (from requests->nsepy) (2020.12.5)\n",
            "Requirement already satisfied: urllib3!=1.25.0,!=1.25.1,<1.26,>=1.21.1 in /usr/local/lib/python3.7/dist-packages (from requests->nsepy) (1.24.3)\n",
            "Requirement already satisfied: idna<3,>=2.5 in /usr/local/lib/python3.7/dist-packages (from requests->nsepy) (2.10)\n",
            "Requirement already satisfied: pytz>=2017.2 in /usr/local/lib/python3.7/dist-packages (from pandas->nsepy) (2018.9)\n",
            "Requirement already satisfied: python-dateutil>=2.7.3 in /usr/local/lib/python3.7/dist-packages (from pandas->nsepy) (2.8.1)\n"
          ],
          "name": "stdout"
        }
      ]
    },
    {
      "cell_type": "code",
      "metadata": {
        "colab": {
          "base_uri": "https://localhost:8080/",
          "height": 221
        },
        "id": "nSsItyGNpNWx",
        "outputId": "ef90e49e-ad0e-4e64-d8f3-412b15d9cc32"
      },
      "source": [
        "import pandas as pd\n",
        "import numpy as np\n",
        " \n",
        "# To remove the scientific notation from numpy arrays\n",
        "np.set_printoptions(suppress=True)\n",
        " \n",
        "# install the nsepy library to get stock prices\n",
        "\n",
        " \n",
        "############################################\n",
        "# Getting Stock data using nsepy library\n",
        "from nsepy import get_history\n",
        "from datetime import datetime\n",
        " \n",
        "startDate=datetime(2019, 1,1)\n",
        "endDate=datetime(2020, 10, 5)\n",
        "StockData = pd.read_csv('Future5_HDFC.csv')\n",
        " \n",
        "# Fetching the data\n",
        "#StockData=get_history(symbol='INFY', start=startDate, end=endDate)\n",
        "print(StockData.shape)\n",
        "StockData.head()\n",
        "StockData.tail()"
      ],
      "execution_count": null,
      "outputs": [
        {
          "output_type": "stream",
          "text": [
            "(363, 7)\n"
          ],
          "name": "stdout"
        },
        {
          "output_type": "execute_result",
          "data": {
            "text/html": [
              "<div>\n",
              "<style scoped>\n",
              "    .dataframe tbody tr th:only-of-type {\n",
              "        vertical-align: middle;\n",
              "    }\n",
              "\n",
              "    .dataframe tbody tr th {\n",
              "        vertical-align: top;\n",
              "    }\n",
              "\n",
              "    .dataframe thead th {\n",
              "        text-align: right;\n",
              "    }\n",
              "</style>\n",
              "<table border=\"1\" class=\"dataframe\">\n",
              "  <thead>\n",
              "    <tr style=\"text-align: right;\">\n",
              "      <th></th>\n",
              "      <th>Date</th>\n",
              "      <th>Open</th>\n",
              "      <th>High</th>\n",
              "      <th>Low</th>\n",
              "      <th>Close</th>\n",
              "      <th>Adj Close</th>\n",
              "      <th>Volume</th>\n",
              "    </tr>\n",
              "  </thead>\n",
              "  <tbody>\n",
              "    <tr>\n",
              "      <th>358</th>\n",
              "      <td>6/4/2021</td>\n",
              "      <td>76.599998</td>\n",
              "      <td>76.860001</td>\n",
              "      <td>76.209999</td>\n",
              "      <td>76.839996</td>\n",
              "      <td>76.839996</td>\n",
              "      <td>361800</td>\n",
              "    </tr>\n",
              "    <tr>\n",
              "      <th>359</th>\n",
              "      <td>6/7/2021</td>\n",
              "      <td>76.570000</td>\n",
              "      <td>77.070000</td>\n",
              "      <td>76.559998</td>\n",
              "      <td>76.919998</td>\n",
              "      <td>76.919998</td>\n",
              "      <td>490700</td>\n",
              "    </tr>\n",
              "    <tr>\n",
              "      <th>360</th>\n",
              "      <td>6/8/2021</td>\n",
              "      <td>76.500000</td>\n",
              "      <td>77.000000</td>\n",
              "      <td>76.300003</td>\n",
              "      <td>76.949997</td>\n",
              "      <td>76.949997</td>\n",
              "      <td>890400</td>\n",
              "    </tr>\n",
              "    <tr>\n",
              "      <th>361</th>\n",
              "      <td>6/9/2021</td>\n",
              "      <td>76.650002</td>\n",
              "      <td>77.620003</td>\n",
              "      <td>76.459999</td>\n",
              "      <td>77.250000</td>\n",
              "      <td>77.250000</td>\n",
              "      <td>1164600</td>\n",
              "    </tr>\n",
              "    <tr>\n",
              "      <th>362</th>\n",
              "      <td>6/10/2021</td>\n",
              "      <td>77.239998</td>\n",
              "      <td>77.449997</td>\n",
              "      <td>76.500000</td>\n",
              "      <td>77.239998</td>\n",
              "      <td>77.239998</td>\n",
              "      <td>848400</td>\n",
              "    </tr>\n",
              "  </tbody>\n",
              "</table>\n",
              "</div>"
            ],
            "text/plain": [
              "          Date       Open       High        Low      Close  Adj Close   Volume\n",
              "358   6/4/2021  76.599998  76.860001  76.209999  76.839996  76.839996   361800\n",
              "359   6/7/2021  76.570000  77.070000  76.559998  76.919998  76.919998   490700\n",
              "360   6/8/2021  76.500000  77.000000  76.300003  76.949997  76.949997   890400\n",
              "361   6/9/2021  76.650002  77.620003  76.459999  77.250000  77.250000  1164600\n",
              "362  6/10/2021  77.239998  77.449997  76.500000  77.239998  77.239998   848400"
            ]
          },
          "metadata": {
            "tags": []
          },
          "execution_count": 16
        }
      ]
    },
    {
      "cell_type": "code",
      "metadata": {
        "id": "xrEvNZLPtRu7"
      },
      "source": [
        "#StockData=get_history(symbol='INFY', start=startDate, end=endDate)"
      ],
      "execution_count": null,
      "outputs": []
    },
    {
      "cell_type": "code",
      "metadata": {
        "colab": {
          "base_uri": "https://localhost:8080/",
          "height": 343
        },
        "id": "VKNidMJ7s_N7",
        "outputId": "960b9c84-f66e-455b-9aca-f9881a893f8e"
      },
      "source": [
        "# Creating a column as date\n",
        "StockData['TradeDate']=StockData.index\n",
        " \n",
        "# Plotting the stock prices\n",
        "%matplotlib inline\n",
        "StockData.plot(x='TradeDate', y='Close', kind='line', figsize=(20,6), rot=20)"
      ],
      "execution_count": null,
      "outputs": [
        {
          "output_type": "execute_result",
          "data": {
            "text/plain": [
              "<matplotlib.axes._subplots.AxesSubplot at 0x7fad5b7c5750>"
            ]
          },
          "metadata": {
            "tags": []
          },
          "execution_count": 18
        },
        {
          "output_type": "display_data",
          "data": {
            "image/png": "[encoded data removed]",
            "text/plain": [
              "<Figure size 1440x432 with 1 Axes>"
            ]
          },
          "metadata": {
            "tags": [],
            "needs_background": "light"
          }
        }
      ]
    },
    {
      "cell_type": "code",
      "metadata": {
        "colab": {
          "base_uri": "https://localhost:8080/"
        },
        "id": "5GUROsa1uD96",
        "outputId": "2cb55f50-0635-4254-c621-351c4e627cb5"
      },
      "source": [
        "# Extracting the closing prices of each day\n",
        "FullData=StockData[['Close']].values\n",
        "print(FullData[0:5])\n",
        " \n",
        "# Feature Scaling for fast training of neural networks\n",
        "from sklearn.preprocessing import StandardScaler, MinMaxScaler\n",
        " \n",
        "# Choosing between Standardization or normalization\n",
        "#sc = StandardScaler()\n",
        "sc=MinMaxScaler()\n",
        " \n",
        "DataScaler = sc.fit(FullData)\n",
        "X=DataScaler.transform(FullData)\n",
        "#X=FullData\n",
        " \n",
        "print('### After Normalization ###')\n",
        "X[0:5]"
      ],
      "execution_count": null,
      "outputs": [
        {
          "output_type": "stream",
          "text": [
            "[[63.700001]\n",
            " [62.009998]\n",
            " [60.91    ]\n",
            " [60.689999]\n",
            " [61.34    ]]\n",
            "### After Normalization ###\n"
          ],
          "name": "stdout"
        },
        {
          "output_type": "execute_result",
          "data": {
            "text/plain": [
              "array([[0.62725416],\n",
              "       [0.59583563],\n",
              "       [0.57538577],\n",
              "       [0.57129577],\n",
              "       [0.58337982]])"
            ]
          },
          "metadata": {
            "tags": []
          },
          "execution_count": 19
        }
      ]
    },
    {
      "cell_type": "code",
      "metadata": {
        "colab": {
          "base_uri": "https://localhost:8080/"
        },
        "id": "x1QWCDxbuovc",
        "outputId": "aa73be85-a0d9-4147-9dfb-5c67a55cd863"
      },
      "source": [
        "# split into samples\n",
        "X_samples = list()\n",
        "y_samples = list()\n",
        " \n",
        "NumerOfRows = len(X)\n",
        "TimeSteps=10  # next day's Price Prediction is based on last how many past day's prices\n",
        " \n",
        "# Iterate thru the values to create combinations\n",
        "for i in range(TimeSteps , NumerOfRows , 1):\n",
        "    x_sample = X[i-TimeSteps:i]\n",
        "    y_sample = X[i]\n",
        "    X_samples.append(x_sample)\n",
        "    y_samples.append(y_sample)\n",
        " \n",
        "################################################\n",
        "# Reshape the Input as a 3D (number of samples, Time Steps, Features)\n",
        "X_data=np.array(X_samples)\n",
        "X_data=X_data.reshape(X_data.shape[0],X_data.shape[1], 1)\n",
        "print('\\n#### Input Data shape ####')\n",
        "print(X_data.shape)\n",
        " \n",
        "# We do not reshape y as a 3D data  as it is supposed to be a single column only\n",
        "y_data=np.array(y_samples)\n",
        "y_data=y_data.reshape(y_data.shape[0], 1)\n",
        "print('\\n#### Output Data shape ####')\n",
        "print(y_data.shape)"
      ],
      "execution_count": null,
      "outputs": [
        {
          "output_type": "stream",
          "text": [
            "\n",
            "#### Input Data shape ####\n",
            "(353, 10, 1)\n",
            "\n",
            "#### Output Data shape ####\n",
            "(353, 1)\n"
          ],
          "name": "stdout"
        }
      ]
    },
    {
      "cell_type": "markdown",
      "metadata": {
        "id": "cKWMPYS7u_gq"
      },
      "source": [
        "**Splitting the data into training and testing**"
      ]
    },
    {
      "cell_type": "code",
      "metadata": {
        "colab": {
          "base_uri": "https://localhost:8080/"
        },
        "id": "Psn50A30vAg2",
        "outputId": "633be9a6-f8f1-46b7-8f63-73965cbc0a33"
      },
      "source": [
        "# Choosing the number of testing data records\n",
        "TestingRecords=5\n",
        " \n",
        "# Splitting the data into train and test\n",
        "X_train=X_data[:-TestingRecords]\n",
        "X_test=X_data[-TestingRecords:]\n",
        "y_train=y_data[:-TestingRecords]\n",
        "y_test=y_data[-TestingRecords:]\n",
        " \n",
        "############################################\n",
        " \n",
        "# Printing the shape of training and testing\n",
        "print('\\n#### Training Data shape ####')\n",
        "print(X_train.shape)\n",
        "print(y_train.shape)\n",
        "print('\\n#### Testing Data shape ####')\n",
        "print(X_test.shape)\n",
        "print(y_test.shape)"
      ],
      "execution_count": null,
      "outputs": [
        {
          "output_type": "stream",
          "text": [
            "\n",
            "#### Training Data shape ####\n",
            "(348, 10, 1)\n",
            "(348, 1)\n",
            "\n",
            "#### Testing Data shape ####\n",
            "(5, 10, 1)\n",
            "(5, 1)\n"
          ],
          "name": "stdout"
        }
      ]
    },
    {
      "cell_type": "markdown",
      "metadata": {
        "id": "tkmkHsQlvhjo"
      },
      "source": [
        "**Visualizing the input and output data for LSTM**"
      ]
    },
    {
      "cell_type": "code",
      "metadata": {
        "colab": {
          "base_uri": "https://localhost:8080/"
        },
        "id": "-UmjHoBBvhBd",
        "outputId": "61d80580-d366-40f2-b206-faa3ce558c67"
      },
      "source": [
        "# Visualizing the input and output being sent to the LSTM model\n",
        "for inp, out in zip(X_train[0:2], y_train[0:2]):\n",
        "    print(inp,'--', out)"
      ],
      "execution_count": null,
      "outputs": [
        {
          "output_type": "stream",
          "text": [
            "[[0.62725416]\n",
            " [0.59583563]\n",
            " [0.57538577]\n",
            " [0.57129577]\n",
            " [0.58337982]\n",
            " [0.60531698]\n",
            " [0.59379071]\n",
            " [0.61145191]\n",
            " [0.61070834]\n",
            " [0.60420151]] -- [0.58895704]\n",
            "[[0.59583563]\n",
            " [0.57538577]\n",
            " [0.57129577]\n",
            " [0.58337982]\n",
            " [0.60531698]\n",
            " [0.59379071]\n",
            " [0.61145191]\n",
            " [0.61070834]\n",
            " [0.60420151]\n",
            " [0.58895704]] -- [0.59081618]\n"
          ],
          "name": "stdout"
        }
      ]
    },
    {
      "cell_type": "markdown",
      "metadata": {
        "id": "oPT7E3J0wza_"
      },
      "source": [
        "**Creating the Deep Learning LSTM model**"
      ]
    },
    {
      "cell_type": "code",
      "metadata": {
        "colab": {
          "base_uri": "https://localhost:8080/"
        },
        "id": "kDZCTT7-w3ie",
        "outputId": "b56ca853-145f-4210-ac01-a85a1e7ca62c"
      },
      "source": [
        "# Defining Input shapes for LSTM\n",
        "TimeSteps=X_train.shape[1]\n",
        "TotalFeatures=X_train.shape[2]\n",
        "print(\"Number of TimeSteps:\", TimeSteps)\n",
        "print(\"Number of Features:\", TotalFeatures)"
      ],
      "execution_count": null,
      "outputs": [
        {
          "output_type": "stream",
          "text": [
            "Number of TimeSteps: 10\n",
            "Number of Features: 1\n"
          ],
          "name": "stdout"
        }
      ]
    },
    {
      "cell_type": "code",
      "metadata": {
        "colab": {
          "base_uri": "https://localhost:8080/"
        },
        "id": "wGcoqIpUx_4q",
        "outputId": "051a23d5-e34a-4259-e623-73dcdd2111b5"
      },
      "source": [
        "# Importing the Keras libraries and packages\n",
        "from keras.models import Sequential\n",
        "from keras.layers import Dense\n",
        "from keras.layers import LSTM\n",
        " \n",
        "# Initialising the RNN\n",
        "regressor = Sequential()\n",
        " \n",
        "# Adding the First input hidden layer and the LSTM layer\n",
        "# return_sequences = True, means the output of every time step to be shared with hidden next layer\n",
        "regressor.add(LSTM(units = 10, activation = 'relu', input_shape = (TimeSteps, TotalFeatures), return_sequences=True))\n",
        " \n",
        "# Adding the Second Second hidden layer and the LSTM layer\n",
        "regressor.add(LSTM(units = 5, activation = 'relu', input_shape = (TimeSteps, TotalFeatures), return_sequences=True))\n",
        " \n",
        "# Adding the Second Third hidden layer and the LSTM layer\n",
        "regressor.add(LSTM(units = 5, activation = 'relu', return_sequences=False ))\n",
        " \n",
        " \n",
        "# Adding the output layer\n",
        "regressor.add(Dense(units = 1))\n",
        " \n",
        "# Compiling the RNN\n",
        "regressor.compile(optimizer = 'adam', loss = 'mean_squared_error')\n",
        " \n",
        "##################################################\n",
        " \n",
        "import time\n",
        "# Measuring the time taken by the model to train\n",
        "StartTime=time.time()\n",
        " \n",
        "# Fitting the RNN to the Training set\n",
        "regressor.fit(X_train, y_train, batch_size = 5, epochs = 100)\n",
        " \n",
        "EndTime=time.time()\n",
        "print(\"## Total Time Taken: \", round((EndTime-StartTime)/60), 'Minutes ##')"
      ],
      "execution_count": null,
      "outputs": [
        {
          "output_type": "stream",
          "text": [
            "Epoch 1/100\n",
            "70/70 [==============================] - 6s 12ms/step - loss: 0.3067\n",
            "Epoch 2/100\n",
            "70/70 [==============================] - 1s 12ms/step - loss: 0.0144\n",
            "Epoch 3/100\n",
            "70/70 [==============================] - 1s 12ms/step - loss: 0.0086\n",
            "Epoch 4/100\n",
            "70/70 [==============================] - 1s 12ms/step - loss: 0.0076\n",
            "Epoch 5/100\n",
            "70/70 [==============================] - 1s 12ms/step - loss: 0.0064\n",
            "Epoch 6/100\n",
            "70/70 [==============================] - 1s 12ms/step - loss: 0.0056\n",
            "Epoch 7/100\n",
            "70/70 [==============================] - 1s 13ms/step - loss: 0.0039\n",
            "Epoch 8/100\n",
            "70/70 [==============================] - 1s 12ms/step - loss: 0.0050\n",
            "Epoch 9/100\n",
            "70/70 [==============================] - 1s 12ms/step - loss: 0.0044\n",
            "Epoch 10/100\n",
            "70/70 [==============================] - 1s 12ms/step - loss: 0.0048\n",
            "Epoch 11/100\n",
            "70/70 [==============================] - 1s 12ms/step - loss: 0.0039\n",
            "Epoch 12/100\n",
            "70/70 [==============================] - 1s 12ms/step - loss: 0.0037\n",
            "Epoch 13/100\n",
            "70/70 [==============================] - 1s 12ms/step - loss: 0.0042\n",
            "Epoch 14/100\n",
            "70/70 [==============================] - 1s 12ms/step - loss: 0.0048\n",
            "Epoch 15/100\n",
            "70/70 [==============================] - 1s 12ms/step - loss: 0.0037\n",
            "Epoch 16/100\n",
            "70/70 [==============================] - 1s 12ms/step - loss: 0.0042\n",
            "Epoch 17/100\n",
            "70/70 [==============================] - 1s 12ms/step - loss: 0.0039\n",
            "Epoch 18/100\n",
            "70/70 [==============================] - 1s 12ms/step - loss: 0.0039\n",
            "Epoch 19/100\n",
            "70/70 [==============================] - 1s 13ms/step - loss: 0.0037\n",
            "Epoch 20/100\n",
            "70/70 [==============================] - 1s 13ms/step - loss: 0.0028\n",
            "Epoch 21/100\n",
            "70/70 [==============================] - 1s 12ms/step - loss: 0.0033\n",
            "Epoch 22/100\n",
            "70/70 [==============================] - 1s 12ms/step - loss: 0.0033\n",
            "Epoch 23/100\n",
            "70/70 [==============================] - 1s 12ms/step - loss: 0.0041\n",
            "Epoch 24/100\n",
            "70/70 [==============================] - 1s 12ms/step - loss: 0.0036\n",
            "Epoch 25/100\n",
            "70/70 [==============================] - 1s 12ms/step - loss: 0.0036\n",
            "Epoch 26/100\n",
            "70/70 [==============================] - 1s 12ms/step - loss: 0.0031\n",
            "Epoch 27/100\n",
            "70/70 [==============================] - 1s 12ms/step - loss: 0.0030\n",
            "Epoch 28/100\n",
            "70/70 [==============================] - 1s 12ms/step - loss: 0.0029\n",
            "Epoch 29/100\n",
            "70/70 [==============================] - 1s 12ms/step - loss: 0.0032\n",
            "Epoch 30/100\n",
            "70/70 [==============================] - 1s 12ms/step - loss: 0.0031\n",
            "Epoch 31/100\n",
            "70/70 [==============================] - 1s 13ms/step - loss: 0.0032\n",
            "Epoch 32/100\n",
            "70/70 [==============================] - 1s 13ms/step - loss: 0.0030\n",
            "Epoch 33/100\n",
            "70/70 [==============================] - 1s 12ms/step - loss: 0.0030\n",
            "Epoch 34/100\n",
            "70/70 [==============================] - 1s 12ms/step - loss: 0.0029\n",
            "Epoch 35/100\n",
            "70/70 [==============================] - 1s 13ms/step - loss: 0.0025\n",
            "Epoch 36/100\n",
            "70/70 [==============================] - 1s 12ms/step - loss: 0.0020\n",
            "Epoch 37/100\n",
            "70/70 [==============================] - 1s 12ms/step - loss: 0.0030\n",
            "Epoch 38/100\n",
            "70/70 [==============================] - 1s 12ms/step - loss: 0.0023\n",
            "Epoch 39/100\n",
            "70/70 [==============================] - 1s 12ms/step - loss: 0.0028\n",
            "Epoch 40/100\n",
            "70/70 [==============================] - 1s 13ms/step - loss: 0.0021\n",
            "Epoch 41/100\n",
            "70/70 [==============================] - 1s 12ms/step - loss: 0.0019\n",
            "Epoch 42/100\n",
            "70/70 [==============================] - 1s 13ms/step - loss: 0.0021\n",
            "Epoch 43/100\n",
            "70/70 [==============================] - 1s 13ms/step - loss: 0.0018\n",
            "Epoch 44/100\n",
            "70/70 [==============================] - 1s 13ms/step - loss: 0.0022\n",
            "Epoch 45/100\n",
            "70/70 [==============================] - 1s 12ms/step - loss: 0.0026\n",
            "Epoch 46/100\n",
            "70/70 [==============================] - 1s 13ms/step - loss: 0.0020\n",
            "Epoch 47/100\n",
            "70/70 [==============================] - 1s 12ms/step - loss: 0.0017\n",
            "Epoch 48/100\n",
            "70/70 [==============================] - 1s 12ms/step - loss: 0.0021\n",
            "Epoch 49/100\n",
            "70/70 [==============================] - 1s 12ms/step - loss: 0.0021\n",
            "Epoch 50/100\n",
            "70/70 [==============================] - 1s 13ms/step - loss: 0.0014\n",
            "Epoch 51/100\n",
            "70/70 [==============================] - 1s 13ms/step - loss: 0.0016\n",
            "Epoch 52/100\n",
            "70/70 [==============================] - 1s 13ms/step - loss: 0.0017\n",
            "Epoch 53/100\n",
            "70/70 [==============================] - 1s 12ms/step - loss: 0.0016\n",
            "Epoch 54/100\n",
            "70/70 [==============================] - 1s 12ms/step - loss: 0.0019\n",
            "Epoch 55/100\n",
            "70/70 [==============================] - 1s 12ms/step - loss: 0.0014\n",
            "Epoch 56/100\n",
            "70/70 [==============================] - 1s 13ms/step - loss: 0.0016\n",
            "Epoch 57/100\n",
            "70/70 [==============================] - 1s 13ms/step - loss: 0.0018\n",
            "Epoch 58/100\n",
            "70/70 [==============================] - 1s 12ms/step - loss: 0.0015\n",
            "Epoch 59/100\n",
            "70/70 [==============================] - 1s 12ms/step - loss: 0.0018\n",
            "Epoch 60/100\n",
            "70/70 [==============================] - 1s 12ms/step - loss: 0.0014\n",
            "Epoch 61/100\n",
            "70/70 [==============================] - 1s 12ms/step - loss: 0.0020\n",
            "Epoch 62/100\n",
            "70/70 [==============================] - 1s 12ms/step - loss: 0.0014\n",
            "Epoch 63/100\n",
            "70/70 [==============================] - 1s 12ms/step - loss: 0.0018\n",
            "Epoch 64/100\n",
            "70/70 [==============================] - 1s 12ms/step - loss: 0.0013\n",
            "Epoch 65/100\n",
            "70/70 [==============================] - 1s 12ms/step - loss: 0.0014\n",
            "Epoch 66/100\n",
            "70/70 [==============================] - 1s 12ms/step - loss: 0.0018\n",
            "Epoch 67/100\n",
            "70/70 [==============================] - 1s 14ms/step - loss: 0.0018\n",
            "Epoch 68/100\n",
            "70/70 [==============================] - 1s 12ms/step - loss: 0.0016\n",
            "Epoch 69/100\n",
            "70/70 [==============================] - 1s 12ms/step - loss: 0.0015\n",
            "Epoch 70/100\n",
            "70/70 [==============================] - 1s 12ms/step - loss: 0.0015\n",
            "Epoch 71/100\n",
            "70/70 [==============================] - 1s 12ms/step - loss: 0.0013\n",
            "Epoch 72/100\n",
            "70/70 [==============================] - 1s 12ms/step - loss: 0.0015\n",
            "Epoch 73/100\n",
            "70/70 [==============================] - 1s 12ms/step - loss: 0.0012\n",
            "Epoch 74/100\n",
            "70/70 [==============================] - 1s 12ms/step - loss: 0.0019\n",
            "Epoch 75/100\n",
            "70/70 [==============================] - 1s 12ms/step - loss: 0.0019\n",
            "Epoch 76/100\n",
            "70/70 [==============================] - 1s 13ms/step - loss: 0.0019\n",
            "Epoch 77/100\n",
            "70/70 [==============================] - 1s 13ms/step - loss: 0.0013\n",
            "Epoch 78/100\n",
            "70/70 [==============================] - 1s 12ms/step - loss: 0.0012\n",
            "Epoch 79/100\n",
            "70/70 [==============================] - 1s 13ms/step - loss: 0.0011\n",
            "Epoch 80/100\n",
            "70/70 [==============================] - 1s 13ms/step - loss: 0.0015\n",
            "Epoch 81/100\n",
            "70/70 [==============================] - 1s 12ms/step - loss: 0.0013\n",
            "Epoch 82/100\n",
            "70/70 [==============================] - 1s 13ms/step - loss: 0.0013\n",
            "Epoch 83/100\n",
            "70/70 [==============================] - 1s 12ms/step - loss: 0.0011\n",
            "Epoch 84/100\n",
            "70/70 [==============================] - 1s 12ms/step - loss: 0.0013\n",
            "Epoch 85/100\n",
            "70/70 [==============================] - 1s 13ms/step - loss: 0.0010\n",
            "Epoch 86/100\n",
            "70/70 [==============================] - 1s 13ms/step - loss: 0.0012\n",
            "Epoch 87/100\n",
            "70/70 [==============================] - 1s 12ms/step - loss: 0.0011\n",
            "Epoch 88/100\n",
            "70/70 [==============================] - 1s 12ms/step - loss: 0.0017\n",
            "Epoch 89/100\n",
            "70/70 [==============================] - 1s 12ms/step - loss: 0.0011\n",
            "Epoch 90/100\n",
            "70/70 [==============================] - 1s 12ms/step - loss: 0.0011\n",
            "Epoch 91/100\n",
            "70/70 [==============================] - 1s 12ms/step - loss: 0.0015\n",
            "Epoch 92/100\n",
            "70/70 [==============================] - 1s 12ms/step - loss: 0.0011\n",
            "Epoch 93/100\n",
            "70/70 [==============================] - 1s 12ms/step - loss: 0.0014\n",
            "Epoch 94/100\n",
            "70/70 [==============================] - 1s 12ms/step - loss: 0.0014\n",
            "Epoch 95/100\n",
            "70/70 [==============================] - 1s 13ms/step - loss: 0.0011\n",
            "Epoch 96/100\n",
            "70/70 [==============================] - 1s 12ms/step - loss: 0.0014\n",
            "Epoch 97/100\n",
            "70/70 [==============================] - 1s 12ms/step - loss: 0.0012\n",
            "Epoch 98/100\n",
            "70/70 [==============================] - 1s 13ms/step - loss: 0.0010\n",
            "Epoch 99/100\n",
            "70/70 [==============================] - 1s 12ms/step - loss: 0.0010\n",
            "Epoch 100/100\n",
            "70/70 [==============================] - 1s 13ms/step - loss: 0.0013\n",
            "## Total Time Taken:  2 Minutes ##\n"
          ],
          "name": "stdout"
        }
      ]
    },
    {
      "cell_type": "markdown",
      "metadata": {
        "id": "VinWfwL-yjYe"
      },
      "source": [
        "**Measuring the accuracy of the model on testing** "
      ]
    },
    {
      "cell_type": "code",
      "metadata": {
        "colab": {
          "base_uri": "https://localhost:8080/",
          "height": 71
        },
        "id": "MVIejnuMypFv",
        "outputId": "0f257b70-82af-438a-a76b-0cfa4de1f355"
      },
      "source": [
        "# Making predictions on test data\n",
        "predicted_Price = regressor.predict(X_test)\n",
        "predicted_Price = DataScaler.inverse_transform(predicted_Price)\n",
        " \n",
        "# Getting the original price values for testing data\n",
        "orig=y_test\n",
        "orig=DataScaler.inverse_transform(y_test)\n",
        " \n",
        "# Accuracy of the predictions\n",
        "print('Accuracy:', 100 - (100*(abs(orig-predicted_Price)/orig)).mean())\n",
        " \n",
        "# Visualising the results\n",
        "import matplotlib.pyplot as plt\n",
        " \n",
        "plt.plot(predicted_Price, color = 'blue', label = 'Predicted Volume')\n",
        "plt.plot(orig, color = 'lightblue', label = 'Original Volume')\n",
        " \n",
        "plt.title('Stock Price Predictions')\n",
        "plt.xlabel('Trading Date')\n",
        "plt.xticks(range(TestingRecords), StockData.tail(TestingRecords)['TradeDate'])\n",
        "plt.ylabel('Stock Price')\n",
        " \n",
        "plt.legend()\n",
        "fig=plt.gcf()\n",
        "fig.set_figwidth(20)\n",
        "fig.set_figheight(6)\n",
        "plt.show()"
      ],
      "execution_count": null,
      "outputs": [
        {
          "output_type": "stream",
          "text": [
            "Accuracy: 99.60268120086488\n"
          ],
          "name": "stdout"
        },
        {
          "output_type": "display_data",
          "data": {
            "image/png": "[encoded data removed]",
            "text/plain": [
              "<Figure size 1440x432 with 1 Axes>"
            ]
          },
          "metadata": {
            "tags": [],
            "needs_background": "light"
          }
        }
      ]
    },
    {
      "cell_type": "markdown",
      "metadata": {
        "id": "hsuFTPMdzHv5"
      },
      "source": [
        "**Visualizing the predictions for full data**"
      ]
    },
    {
      "cell_type": "code",
      "metadata": {
        "colab": {
          "base_uri": "https://localhost:8080/",
          "height": 54
        },
        "id": "J2nzfU1MzJtP",
        "outputId": "184d0809-b70f-4081-f5e1-38f11384f81e"
      },
      "source": [
        "# Generating predictions on full data\n",
        "TrainPredictions=DataScaler.inverse_transform(regressor.predict(X_train))\n",
        "TestPredictions=DataScaler.inverse_transform(regressor.predict(X_test))\n",
        " \n",
        "FullDataPredictions=np.append(TrainPredictions, TestPredictions)\n",
        "FullDataOrig=FullData[TimeSteps:]\n",
        " \n",
        "# plotting the full data\n",
        "plt.plot(FullDataPredictions, color = 'blue', label = 'Predicted Price')\n",
        "plt.plot(FullDataOrig , color = 'red', label = 'Original Price')\n",
        " \n",
        " \n",
        "plt.title('Stock Price Predictions')\n",
        "plt.xlabel('Trading Date')\n",
        "plt.ylabel('Stock Price')\n",
        "plt.legend()\n",
        "fig=plt.gcf()\n",
        "fig.set_figwidth(20)\n",
        "fig.set_figheight(8)\n",
        "plt.show()"
      ],
      "execution_count": null,
      "outputs": [
        {
          "output_type": "display_data",
          "data": {
            "image/png": "[encoded data removed]",
            "text/plain": [
              "<Figure size 1440x576 with 1 Axes>"
            ]
          },
          "metadata": {
            "tags": [],
            "needs_background": "light"
          }
        }
      ]
    },
    {
      "cell_type": "markdown",
      "metadata": {
        "id": "ApxHbjs30HKD"
      },
      "source": [
        "**How to predict the stock price for tomorrow**"
      ]
    },
    {
      "cell_type": "code",
      "metadata": {
        "colab": {
          "base_uri": "https://localhost:8080/"
        },
        "id": "unT5xOyB0OFr",
        "outputId": "654c6ee6-387b-4d7b-f71c-4b31fbdbd785"
      },
      "source": [
        "# Last 10 days prices\n",
        "Last10Days=np.array([1002.15, 1009.9, 1007.5, 1019.75, 975.4,\n",
        "            1011.45, 1010.4, 1009,1008.25, 1017.65])\n",
        " \n",
        "# Normalizing the data just like we did for training the model\n",
        "Last10Days=DataScaler.transform(Last10Days.reshape(-1,1))\n",
        " \n",
        "# Changing the shape of the data to 3D\n",
        "# Choosing TimeSteps as 10 because we have used the same for training\n",
        "NumSamples=1\n",
        "TimeSteps=10\n",
        "NumFeatures=1\n",
        "Last10Days=Last10Days.reshape(NumSamples,TimeSteps,NumFeatures)\n",
        " \n",
        "#############################\n",
        " \n",
        "# Making predictions on data\n",
        "predicted_Price = regressor.predict(Last10Days)\n",
        "predicted_Price = DataScaler.inverse_transform(predicted_Price)\n",
        "predicted_Price"
      ],
      "execution_count": null,
      "outputs": [
        {
          "output_type": "execute_result",
          "data": {
            "text/plain": [
              "array([[75.73873]], dtype=float32)"
            ]
          },
          "metadata": {
            "tags": []
          },
          "execution_count": 27
        }
      ]
    }
  ]
}